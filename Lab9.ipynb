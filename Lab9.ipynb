{
  "nbformat": 4,
  "nbformat_minor": 0,
  "metadata": {
    "colab": {
      "name": "Lab9.ipynb",
      "provenance": [],
      "authorship_tag": "ABX9TyPoSsCB90XSebgbBwgijW+Q",
      "include_colab_link": true
    },
    "kernelspec": {
      "name": "python3",
      "display_name": "Python 3"
    },
    "language_info": {
      "name": "python"
    }
  },
  "cells": [
    {
      "cell_type": "markdown",
      "metadata": {
        "id": "view-in-github",
        "colab_type": "text"
      },
      "source": [
        "<a href=\"https://colab.research.google.com/github/E-D-W-I-N/BigDataAnalysis/blob/Lab-9/Lab9.ipynb\" target=\"_parent\"><img src=\"https://colab.research.google.com/assets/colab-badge.svg\" alt=\"Open In Colab\"/></a>"
      ]
    },
    {
      "cell_type": "markdown",
      "metadata": {
        "id": "DX3CxXyxi_P7"
      },
      "source": [
        "# Обработка ошибок при использовании метода линейной регрессии\n"
      ]
    },
    {
      "cell_type": "code",
      "metadata": {
        "id": "JyNgRVQRi9H1"
      },
      "source": [
        "import warnings\n",
        "warnings.filterwarnings('ignore')\n",
        "\n",
        "import numpy as np\n",
        "import pandas as pd\n",
        "from sklearn import model_selection\n",
        "from sklearn.linear_model import LinearRegression"
      ],
      "execution_count": 1,
      "outputs": []
    },
    {
      "cell_type": "code",
      "metadata": {
        "colab": {
          "base_uri": "https://localhost:8080/",
          "height": 205
        },
        "id": "1vv5FnZ6jXm1",
        "outputId": "6e6bb0b7-2820-4a35-c7a6-9e3901f425ca"
      },
      "source": [
        "salesDist = pd.read_csv('stores-dist.txt')\n",
        "salesDist.columns = ['district', 'sales', 'stores']\n",
        "salesDist.head()"
      ],
      "execution_count": 2,
      "outputs": [
        {
          "output_type": "execute_result",
          "data": {
            "text/html": [
              "<div>\n",
              "<style scoped>\n",
              "    .dataframe tbody tr th:only-of-type {\n",
              "        vertical-align: middle;\n",
              "    }\n",
              "\n",
              "    .dataframe tbody tr th {\n",
              "        vertical-align: top;\n",
              "    }\n",
              "\n",
              "    .dataframe thead th {\n",
              "        text-align: right;\n",
              "    }\n",
              "</style>\n",
              "<table border=\"1\" class=\"dataframe\">\n",
              "  <thead>\n",
              "    <tr style=\"text-align: right;\">\n",
              "      <th></th>\n",
              "      <th>district</th>\n",
              "      <th>sales</th>\n",
              "      <th>stores</th>\n",
              "    </tr>\n",
              "  </thead>\n",
              "  <tbody>\n",
              "    <tr>\n",
              "      <th>0</th>\n",
              "      <td>1</td>\n",
              "      <td>231.0</td>\n",
              "      <td>12</td>\n",
              "    </tr>\n",
              "    <tr>\n",
              "      <th>1</th>\n",
              "      <td>2</td>\n",
              "      <td>156.0</td>\n",
              "      <td>13</td>\n",
              "    </tr>\n",
              "    <tr>\n",
              "      <th>2</th>\n",
              "      <td>3</td>\n",
              "      <td>10.0</td>\n",
              "      <td>16</td>\n",
              "    </tr>\n",
              "    <tr>\n",
              "      <th>3</th>\n",
              "      <td>4</td>\n",
              "      <td>519.0</td>\n",
              "      <td>2</td>\n",
              "    </tr>\n",
              "    <tr>\n",
              "      <th>4</th>\n",
              "      <td>5</td>\n",
              "      <td>437.0</td>\n",
              "      <td>6</td>\n",
              "    </tr>\n",
              "  </tbody>\n",
              "</table>\n",
              "</div>"
            ],
            "text/plain": [
              "   district  sales  stores\n",
              "0         1  231.0      12\n",
              "1         2  156.0      13\n",
              "2         3   10.0      16\n",
              "3         4  519.0       2\n",
              "4         5  437.0       6"
            ]
          },
          "metadata": {
            "tags": []
          },
          "execution_count": 2
        }
      ]
    },
    {
      "cell_type": "code",
      "metadata": {
        "colab": {
          "base_uri": "https://localhost:8080/",
          "height": 205
        },
        "id": "XWuzvWWZjdPs",
        "outputId": "a2e1012f-0ab1-4b1e-fd70-683631d9d7f1"
      },
      "source": [
        "sales = salesDist.drop('district', axis=1)\n",
        "sales.head()"
      ],
      "execution_count": 3,
      "outputs": [
        {
          "output_type": "execute_result",
          "data": {
            "text/html": [
              "<div>\n",
              "<style scoped>\n",
              "    .dataframe tbody tr th:only-of-type {\n",
              "        vertical-align: middle;\n",
              "    }\n",
              "\n",
              "    .dataframe tbody tr th {\n",
              "        vertical-align: top;\n",
              "    }\n",
              "\n",
              "    .dataframe thead th {\n",
              "        text-align: right;\n",
              "    }\n",
              "</style>\n",
              "<table border=\"1\" class=\"dataframe\">\n",
              "  <thead>\n",
              "    <tr style=\"text-align: right;\">\n",
              "      <th></th>\n",
              "      <th>sales</th>\n",
              "      <th>stores</th>\n",
              "    </tr>\n",
              "  </thead>\n",
              "  <tbody>\n",
              "    <tr>\n",
              "      <th>0</th>\n",
              "      <td>231.0</td>\n",
              "      <td>12</td>\n",
              "    </tr>\n",
              "    <tr>\n",
              "      <th>1</th>\n",
              "      <td>156.0</td>\n",
              "      <td>13</td>\n",
              "    </tr>\n",
              "    <tr>\n",
              "      <th>2</th>\n",
              "      <td>10.0</td>\n",
              "      <td>16</td>\n",
              "    </tr>\n",
              "    <tr>\n",
              "      <th>3</th>\n",
              "      <td>519.0</td>\n",
              "      <td>2</td>\n",
              "    </tr>\n",
              "    <tr>\n",
              "      <th>4</th>\n",
              "      <td>437.0</td>\n",
              "      <td>6</td>\n",
              "    </tr>\n",
              "  </tbody>\n",
              "</table>\n",
              "</div>"
            ],
            "text/plain": [
              "   sales  stores\n",
              "0  231.0      12\n",
              "1  156.0      13\n",
              "2   10.0      16\n",
              "3  519.0       2\n",
              "4  437.0       6"
            ]
          },
          "metadata": {
            "tags": []
          },
          "execution_count": 3
        }
      ]
    },
    {
      "cell_type": "markdown",
      "metadata": {
        "id": "l73Wx83pjk28"
      },
      "source": [
        "# Расчет ошибок"
      ]
    },
    {
      "cell_type": "code",
      "metadata": {
        "id": "jxuIk0nXjjOZ"
      },
      "source": [
        "y = sales.sales\n",
        "x = sales.stores"
      ],
      "execution_count": 5,
      "outputs": []
    },
    {
      "cell_type": "code",
      "metadata": {
        "colab": {
          "base_uri": "https://localhost:8080/"
        },
        "id": "9VGMzhjujl2y",
        "outputId": "b5eeb74e-7b00-44be-bf58-39bb547d3e4c"
      },
      "source": [
        "order = 1\n",
        "p = np.poly1d(np.polyfit(x, y ,order))\n",
        "\n",
        "print('The array p(x) stores the calculated y value from the polynomial model for each x value,\\n\\n{}.'.format(p(x)))\n",
        "print('\\nThe vector of coefficients p describes this regression model:\\n{}'.format(p))\n",
        "print('\\nThe zeroth order term (y-intercept or b) is stored in p[0]: {}.'.format(p[0]))\n",
        "print('\\nThe first order term (slope or m) is stored in p[1]: {}.'.format(p[1]))"
      ],
      "execution_count": 6,
      "outputs": [
        {
          "output_type": "stream",
          "text": [
            "The array p(x) stores the calculated y value from the polynomial model for each x value,\n",
            "\n",
            "[169.93468442 134.14759895  26.78634257 527.80553905 384.65719719\n",
            " 420.44428266 205.72176988 134.14759895  26.78634257 277.29594081\n",
            " 527.80553905 313.08302627 456.23136812  62.57342803 169.93468442\n",
            " 205.72176988 420.44428266  98.36051349 313.08302627 527.80553905\n",
            " 563.59262451  62.57342803 134.14759895 348.87011173 384.65719719\n",
            " 563.59262451 277.29594081].\n",
            "\n",
            "The vector of coefficients p describes this regression model:\n",
            " \n",
            "-35.79 x + 599.4\n",
            "\n",
            "The zeroth order term (y-intercept or b) is stored in p[0]: 599.3797099726614.\n",
            "\n",
            "The first order term (slope or m) is stored in p[1]: -35.787085462974005.\n"
          ],
          "name": "stdout"
        }
      ]
    },
    {
      "cell_type": "code",
      "metadata": {
        "colab": {
          "base_uri": "https://localhost:8080/"
        },
        "id": "OGBhDKL3kCj_",
        "outputId": "acffc36a-e60c-4f1d-bf50-e7df33516811"
      },
      "source": [
        "from sklearn.metrics import r2_score\n",
        "r2 = r2_score(y, p(x))\n",
        "r2"
      ],
      "execution_count": 7,
      "outputs": [
        {
          "output_type": "execute_result",
          "data": {
            "text/plain": [
              "0.83217523508888"
            ]
          },
          "metadata": {
            "tags": []
          },
          "execution_count": 7
        }
      ]
    },
    {
      "cell_type": "code",
      "metadata": {
        "colab": {
          "base_uri": "https://localhost:8080/"
        },
        "id": "9chv9GelkG2-",
        "outputId": "18a17833-6402-4d80-ea92-e58c447e6562"
      },
      "source": [
        "from sklearn.metrics import mean_squared_error\n",
        "mse = mean_squared_error(y, p(x))\n",
        "mse"
      ],
      "execution_count": 8,
      "outputs": [
        {
          "output_type": "execute_result",
          "data": {
            "text/plain": [
              "5961.386465941158"
            ]
          },
          "metadata": {
            "tags": []
          },
          "execution_count": 8
        }
      ]
    },
    {
      "cell_type": "code",
      "metadata": {
        "id": "5fgZS4mXkJ5D",
        "outputId": "def2f414-499f-498a-cc48-f3931f5afc6d",
        "colab": {
          "base_uri": "https://localhost:8080/"
        }
      },
      "source": [
        "from sklearn.metrics import mean_absolute_error\n",
        "mae = mean_absolute_error(y, p(x))\n",
        "mae"
      ],
      "execution_count": 9,
      "outputs": [
        {
          "output_type": "execute_result",
          "data": {
            "text/plain": [
              "61.2232611786873"
            ]
          },
          "metadata": {
            "tags": []
          },
          "execution_count": 9
        }
      ]
    }
  ]
}