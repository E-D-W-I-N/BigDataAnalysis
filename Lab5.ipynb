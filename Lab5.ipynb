{
  "nbformat": 4,
  "nbformat_minor": 0,
  "metadata": {
    "colab": {
      "name": "Lab5.ipynb",
      "provenance": [],
      "authorship_tag": "ABX9TyMtgUJEfB1KZDSRTM6cVxRn",
      "include_colab_link": true
    },
    "kernelspec": {
      "name": "python3",
      "display_name": "Python 3"
    },
    "language_info": {
      "name": "python"
    }
  },
  "cells": [
    {
      "cell_type": "markdown",
      "metadata": {
        "id": "view-in-github",
        "colab_type": "text"
      },
      "source": [
        "<a href=\"https://colab.research.google.com/github/E-D-W-I-N/BigDataAnalysis/blob/Lab-5/Lab5.ipynb\" target=\"_parent\"><img src=\"https://colab.research.google.com/assets/colab-badge.svg\" alt=\"Open In Colab\"/></a>"
      ]
    },
    {
      "cell_type": "code",
      "metadata": {
        "id": "Bw3J3JyvkQdG"
      },
      "source": [
        "import pandas as pd\n",
        "df = pd.read_csv('brainsize.txt')"
      ],
      "execution_count": 31,
      "outputs": []
    },
    {
      "cell_type": "code",
      "metadata": {
        "colab": {
          "base_uri": "https://localhost:8080/",
          "height": 198
        },
        "id": "UBg033-KlaV3",
        "outputId": "d5a8a615-e8b3-481e-a7af-8368f18fb85f"
      },
      "source": [
        "df.head()"
      ],
      "execution_count": 32,
      "outputs": [
        {
          "output_type": "execute_result",
          "data": {
            "text/html": [
              "<div>\n",
              "<style scoped>\n",
              "    .dataframe tbody tr th:only-of-type {\n",
              "        vertical-align: middle;\n",
              "    }\n",
              "\n",
              "    .dataframe tbody tr th {\n",
              "        vertical-align: top;\n",
              "    }\n",
              "\n",
              "    .dataframe thead th {\n",
              "        text-align: right;\n",
              "    }\n",
              "</style>\n",
              "<table border=\"1\" class=\"dataframe\">\n",
              "  <thead>\n",
              "    <tr style=\"text-align: right;\">\n",
              "      <th></th>\n",
              "      <th>Gender</th>\n",
              "      <th>FSIQ</th>\n",
              "      <th>VIQ</th>\n",
              "      <th>PIQ</th>\n",
              "      <th>Weight</th>\n",
              "      <th>Height</th>\n",
              "      <th>MRI_Count</th>\n",
              "    </tr>\n",
              "  </thead>\n",
              "  <tbody>\n",
              "    <tr>\n",
              "      <th>0</th>\n",
              "      <td>Female</td>\n",
              "      <td>133</td>\n",
              "      <td>132</td>\n",
              "      <td>124</td>\n",
              "      <td>118.0</td>\n",
              "      <td>64.5</td>\n",
              "      <td>816932</td>\n",
              "    </tr>\n",
              "    <tr>\n",
              "      <th>1</th>\n",
              "      <td>Male</td>\n",
              "      <td>140</td>\n",
              "      <td>150</td>\n",
              "      <td>124</td>\n",
              "      <td>NaN</td>\n",
              "      <td>72.5</td>\n",
              "      <td>1001121</td>\n",
              "    </tr>\n",
              "    <tr>\n",
              "      <th>2</th>\n",
              "      <td>Male</td>\n",
              "      <td>139</td>\n",
              "      <td>123</td>\n",
              "      <td>150</td>\n",
              "      <td>143.0</td>\n",
              "      <td>73.3</td>\n",
              "      <td>1038437</td>\n",
              "    </tr>\n",
              "    <tr>\n",
              "      <th>3</th>\n",
              "      <td>Male</td>\n",
              "      <td>133</td>\n",
              "      <td>129</td>\n",
              "      <td>128</td>\n",
              "      <td>172.0</td>\n",
              "      <td>68.8</td>\n",
              "      <td>965353</td>\n",
              "    </tr>\n",
              "    <tr>\n",
              "      <th>4</th>\n",
              "      <td>Female</td>\n",
              "      <td>137</td>\n",
              "      <td>132</td>\n",
              "      <td>134</td>\n",
              "      <td>147.0</td>\n",
              "      <td>65.0</td>\n",
              "      <td>951545</td>\n",
              "    </tr>\n",
              "  </tbody>\n",
              "</table>\n",
              "</div>"
            ],
            "text/plain": [
              "   Gender  FSIQ  VIQ  PIQ  Weight  Height  MRI_Count\n",
              "0  Female   133  132  124   118.0    64.5     816932\n",
              "1    Male   140  150  124     NaN    72.5    1001121\n",
              "2    Male   139  123  150   143.0    73.3    1038437\n",
              "3    Male   133  129  128   172.0    68.8     965353\n",
              "4  Female   137  132  134   147.0    65.0     951545"
            ]
          },
          "metadata": {
            "tags": []
          },
          "execution_count": 32
        }
      ]
    },
    {
      "cell_type": "code",
      "metadata": {
        "colab": {
          "base_uri": "https://localhost:8080/",
          "height": 288
        },
        "id": "XuTyQjKzldWU",
        "outputId": "9bb395ee-e31a-4431-863b-0714fffec1d2"
      },
      "source": [
        "df.describe()"
      ],
      "execution_count": 33,
      "outputs": [
        {
          "output_type": "execute_result",
          "data": {
            "text/html": [
              "<div>\n",
              "<style scoped>\n",
              "    .dataframe tbody tr th:only-of-type {\n",
              "        vertical-align: middle;\n",
              "    }\n",
              "\n",
              "    .dataframe tbody tr th {\n",
              "        vertical-align: top;\n",
              "    }\n",
              "\n",
              "    .dataframe thead th {\n",
              "        text-align: right;\n",
              "    }\n",
              "</style>\n",
              "<table border=\"1\" class=\"dataframe\">\n",
              "  <thead>\n",
              "    <tr style=\"text-align: right;\">\n",
              "      <th></th>\n",
              "      <th>FSIQ</th>\n",
              "      <th>VIQ</th>\n",
              "      <th>PIQ</th>\n",
              "      <th>Weight</th>\n",
              "      <th>Height</th>\n",
              "      <th>MRI_Count</th>\n",
              "    </tr>\n",
              "  </thead>\n",
              "  <tbody>\n",
              "    <tr>\n",
              "      <th>count</th>\n",
              "      <td>40.000000</td>\n",
              "      <td>40.000000</td>\n",
              "      <td>40.00000</td>\n",
              "      <td>38.000000</td>\n",
              "      <td>39.000000</td>\n",
              "      <td>4.000000e+01</td>\n",
              "    </tr>\n",
              "    <tr>\n",
              "      <th>mean</th>\n",
              "      <td>113.450000</td>\n",
              "      <td>112.350000</td>\n",
              "      <td>111.02500</td>\n",
              "      <td>151.052632</td>\n",
              "      <td>68.525641</td>\n",
              "      <td>9.087550e+05</td>\n",
              "    </tr>\n",
              "    <tr>\n",
              "      <th>std</th>\n",
              "      <td>24.082071</td>\n",
              "      <td>23.616107</td>\n",
              "      <td>22.47105</td>\n",
              "      <td>23.478509</td>\n",
              "      <td>3.994649</td>\n",
              "      <td>7.228205e+04</td>\n",
              "    </tr>\n",
              "    <tr>\n",
              "      <th>min</th>\n",
              "      <td>77.000000</td>\n",
              "      <td>71.000000</td>\n",
              "      <td>72.00000</td>\n",
              "      <td>106.000000</td>\n",
              "      <td>62.000000</td>\n",
              "      <td>7.906190e+05</td>\n",
              "    </tr>\n",
              "    <tr>\n",
              "      <th>25%</th>\n",
              "      <td>89.750000</td>\n",
              "      <td>90.000000</td>\n",
              "      <td>88.25000</td>\n",
              "      <td>135.250000</td>\n",
              "      <td>66.000000</td>\n",
              "      <td>8.559185e+05</td>\n",
              "    </tr>\n",
              "    <tr>\n",
              "      <th>50%</th>\n",
              "      <td>116.500000</td>\n",
              "      <td>113.000000</td>\n",
              "      <td>115.00000</td>\n",
              "      <td>146.500000</td>\n",
              "      <td>68.000000</td>\n",
              "      <td>9.053990e+05</td>\n",
              "    </tr>\n",
              "    <tr>\n",
              "      <th>75%</th>\n",
              "      <td>135.500000</td>\n",
              "      <td>129.750000</td>\n",
              "      <td>128.00000</td>\n",
              "      <td>172.000000</td>\n",
              "      <td>70.500000</td>\n",
              "      <td>9.500780e+05</td>\n",
              "    </tr>\n",
              "    <tr>\n",
              "      <th>max</th>\n",
              "      <td>144.000000</td>\n",
              "      <td>150.000000</td>\n",
              "      <td>150.00000</td>\n",
              "      <td>192.000000</td>\n",
              "      <td>77.000000</td>\n",
              "      <td>1.079549e+06</td>\n",
              "    </tr>\n",
              "  </tbody>\n",
              "</table>\n",
              "</div>"
            ],
            "text/plain": [
              "             FSIQ         VIQ        PIQ      Weight     Height     MRI_Count\n",
              "count   40.000000   40.000000   40.00000   38.000000  39.000000  4.000000e+01\n",
              "mean   113.450000  112.350000  111.02500  151.052632  68.525641  9.087550e+05\n",
              "std     24.082071   23.616107   22.47105   23.478509   3.994649  7.228205e+04\n",
              "min     77.000000   71.000000   72.00000  106.000000  62.000000  7.906190e+05\n",
              "25%     89.750000   90.000000   88.25000  135.250000  66.000000  8.559185e+05\n",
              "50%    116.500000  113.000000  115.00000  146.500000  68.000000  9.053990e+05\n",
              "75%    135.500000  129.750000  128.00000  172.000000  70.500000  9.500780e+05\n",
              "max    144.000000  150.000000  150.00000  192.000000  77.000000  1.079549e+06"
            ]
          },
          "metadata": {
            "tags": []
          },
          "execution_count": 33
        }
      ]
    },
    {
      "cell_type": "code",
      "metadata": {
        "id": "IIOxb7TdlrX8"
      },
      "source": [
        "import numpy as np\n",
        "import matplotlib.pyplot as plt"
      ],
      "execution_count": 34,
      "outputs": []
    },
    {
      "cell_type": "code",
      "metadata": {
        "id": "NA36J_nelsfe"
      },
      "source": [
        "mendf = df[(df.Gender == 'Male')]\n",
        "womendf = df[(df.Gender == 'Female')]"
      ],
      "execution_count": 35,
      "outputs": []
    },
    {
      "cell_type": "code",
      "metadata": {
        "colab": {
          "base_uri": "https://localhost:8080/",
          "height": 276
        },
        "id": "qpeh-PUDl4wy",
        "outputId": "31184bea-0dc1-42f3-8da8-c2276e25487c"
      },
      "source": [
        "menMeanSmarts = mendf[['PIQ', 'FSIQ', 'VIQ']].mean(axis = 1)\n",
        "plt.scatter(menMeanSmarts, mendf['MRI_Count'])\n",
        "plt.show()"
      ],
      "execution_count": 36,
      "outputs": [
        {
          "output_type": "display_data",
          "data": {
            "image/png": "[encoded data removed]",
            "text/plain": [
              "<Figure size 432x288 with 1 Axes>"
            ]
          },
          "metadata": {
            "tags": [],
            "needs_background": "light"
          }
        }
      ]
    },
    {
      "cell_type": "code",
      "metadata": {
        "colab": {
          "base_uri": "https://localhost:8080/",
          "height": 276
        },
        "id": "bY24AUJSl7MF",
        "outputId": "45bef1d5-8374-45e1-a097-1ab8be4ffe77"
      },
      "source": [
        "womenMeanSmarts = womendf[['PIQ', 'FSIQ', 'VIQ']].mean(axis = 1)\n",
        "plt.scatter(womenMeanSmarts, womendf['MRI_Count'])\n",
        "plt.show()"
      ],
      "execution_count": 37,
      "outputs": [
        {
          "output_type": "display_data",
          "data": {
            "image/png": "[encoded data removed]",
            "text/plain": [
              "<Figure size 432x288 with 1 Axes>"
            ]
          },
          "metadata": {
            "tags": [],
            "needs_background": "light"
          }
        }
      ]
    },
    {
      "cell_type": "code",
      "metadata": {
        "colab": {
          "base_uri": "https://localhost:8080/",
          "height": 228
        },
        "id": "Vua7coVvl7AM",
        "outputId": "12c764f0-5d73-484e-ea8a-57c36487e5a2"
      },
      "source": [
        "df.corr(method = 'pearson')"
      ],
      "execution_count": 38,
      "outputs": [
        {
          "output_type": "execute_result",
          "data": {
            "text/html": [
              "<div>\n",
              "<style scoped>\n",
              "    .dataframe tbody tr th:only-of-type {\n",
              "        vertical-align: middle;\n",
              "    }\n",
              "\n",
              "    .dataframe tbody tr th {\n",
              "        vertical-align: top;\n",
              "    }\n",
              "\n",
              "    .dataframe thead th {\n",
              "        text-align: right;\n",
              "    }\n",
              "</style>\n",
              "<table border=\"1\" class=\"dataframe\">\n",
              "  <thead>\n",
              "    <tr style=\"text-align: right;\">\n",
              "      <th></th>\n",
              "      <th>FSIQ</th>\n",
              "      <th>VIQ</th>\n",
              "      <th>PIQ</th>\n",
              "      <th>Weight</th>\n",
              "      <th>Height</th>\n",
              "      <th>MRI_Count</th>\n",
              "    </tr>\n",
              "  </thead>\n",
              "  <tbody>\n",
              "    <tr>\n",
              "      <th>FSIQ</th>\n",
              "      <td>1.000000</td>\n",
              "      <td>0.946639</td>\n",
              "      <td>0.934125</td>\n",
              "      <td>-0.051483</td>\n",
              "      <td>-0.086002</td>\n",
              "      <td>0.357641</td>\n",
              "    </tr>\n",
              "    <tr>\n",
              "      <th>VIQ</th>\n",
              "      <td>0.946639</td>\n",
              "      <td>1.000000</td>\n",
              "      <td>0.778135</td>\n",
              "      <td>-0.076088</td>\n",
              "      <td>-0.071068</td>\n",
              "      <td>0.337478</td>\n",
              "    </tr>\n",
              "    <tr>\n",
              "      <th>PIQ</th>\n",
              "      <td>0.934125</td>\n",
              "      <td>0.778135</td>\n",
              "      <td>1.000000</td>\n",
              "      <td>0.002512</td>\n",
              "      <td>-0.076723</td>\n",
              "      <td>0.386817</td>\n",
              "    </tr>\n",
              "    <tr>\n",
              "      <th>Weight</th>\n",
              "      <td>-0.051483</td>\n",
              "      <td>-0.076088</td>\n",
              "      <td>0.002512</td>\n",
              "      <td>1.000000</td>\n",
              "      <td>0.699614</td>\n",
              "      <td>0.513378</td>\n",
              "    </tr>\n",
              "    <tr>\n",
              "      <th>Height</th>\n",
              "      <td>-0.086002</td>\n",
              "      <td>-0.071068</td>\n",
              "      <td>-0.076723</td>\n",
              "      <td>0.699614</td>\n",
              "      <td>1.000000</td>\n",
              "      <td>0.601712</td>\n",
              "    </tr>\n",
              "    <tr>\n",
              "      <th>MRI_Count</th>\n",
              "      <td>0.357641</td>\n",
              "      <td>0.337478</td>\n",
              "      <td>0.386817</td>\n",
              "      <td>0.513378</td>\n",
              "      <td>0.601712</td>\n",
              "      <td>1.000000</td>\n",
              "    </tr>\n",
              "  </tbody>\n",
              "</table>\n",
              "</div>"
            ],
            "text/plain": [
              "               FSIQ       VIQ       PIQ    Weight    Height  MRI_Count\n",
              "FSIQ       1.000000  0.946639  0.934125 -0.051483 -0.086002   0.357641\n",
              "VIQ        0.946639  1.000000  0.778135 -0.076088 -0.071068   0.337478\n",
              "PIQ        0.934125  0.778135  1.000000  0.002512 -0.076723   0.386817\n",
              "Weight    -0.051483 -0.076088  0.002512  1.000000  0.699614   0.513378\n",
              "Height    -0.086002 -0.071068 -0.076723  0.699614  1.000000   0.601712\n",
              "MRI_Count  0.357641  0.337478  0.386817  0.513378  0.601712   1.000000"
            ]
          },
          "metadata": {
            "tags": []
          },
          "execution_count": 38
        }
      ]
    },
    {
      "cell_type": "code",
      "metadata": {
        "colab": {
          "base_uri": "https://localhost:8080/",
          "height": 228
        },
        "id": "aAlXDgXZmGvS",
        "outputId": "d6438168-a863-49b4-97d5-ea0d197e09a1"
      },
      "source": [
        "womendf.corr(method = 'pearson')"
      ],
      "execution_count": 39,
      "outputs": [
        {
          "output_type": "execute_result",
          "data": {
            "text/html": [
              "<div>\n",
              "<style scoped>\n",
              "    .dataframe tbody tr th:only-of-type {\n",
              "        vertical-align: middle;\n",
              "    }\n",
              "\n",
              "    .dataframe tbody tr th {\n",
              "        vertical-align: top;\n",
              "    }\n",
              "\n",
              "    .dataframe thead th {\n",
              "        text-align: right;\n",
              "    }\n",
              "</style>\n",
              "<table border=\"1\" class=\"dataframe\">\n",
              "  <thead>\n",
              "    <tr style=\"text-align: right;\">\n",
              "      <th></th>\n",
              "      <th>FSIQ</th>\n",
              "      <th>VIQ</th>\n",
              "      <th>PIQ</th>\n",
              "      <th>Weight</th>\n",
              "      <th>Height</th>\n",
              "      <th>MRI_Count</th>\n",
              "    </tr>\n",
              "  </thead>\n",
              "  <tbody>\n",
              "    <tr>\n",
              "      <th>FSIQ</th>\n",
              "      <td>1.000000</td>\n",
              "      <td>0.955717</td>\n",
              "      <td>0.939382</td>\n",
              "      <td>0.038192</td>\n",
              "      <td>-0.059011</td>\n",
              "      <td>0.325697</td>\n",
              "    </tr>\n",
              "    <tr>\n",
              "      <th>VIQ</th>\n",
              "      <td>0.955717</td>\n",
              "      <td>1.000000</td>\n",
              "      <td>0.802652</td>\n",
              "      <td>-0.021889</td>\n",
              "      <td>-0.146453</td>\n",
              "      <td>0.254933</td>\n",
              "    </tr>\n",
              "    <tr>\n",
              "      <th>PIQ</th>\n",
              "      <td>0.939382</td>\n",
              "      <td>0.802652</td>\n",
              "      <td>1.000000</td>\n",
              "      <td>0.113901</td>\n",
              "      <td>-0.001242</td>\n",
              "      <td>0.396157</td>\n",
              "    </tr>\n",
              "    <tr>\n",
              "      <th>Weight</th>\n",
              "      <td>0.038192</td>\n",
              "      <td>-0.021889</td>\n",
              "      <td>0.113901</td>\n",
              "      <td>1.000000</td>\n",
              "      <td>0.552357</td>\n",
              "      <td>0.446271</td>\n",
              "    </tr>\n",
              "    <tr>\n",
              "      <th>Height</th>\n",
              "      <td>-0.059011</td>\n",
              "      <td>-0.146453</td>\n",
              "      <td>-0.001242</td>\n",
              "      <td>0.552357</td>\n",
              "      <td>1.000000</td>\n",
              "      <td>0.174541</td>\n",
              "    </tr>\n",
              "    <tr>\n",
              "      <th>MRI_Count</th>\n",
              "      <td>0.325697</td>\n",
              "      <td>0.254933</td>\n",
              "      <td>0.396157</td>\n",
              "      <td>0.446271</td>\n",
              "      <td>0.174541</td>\n",
              "      <td>1.000000</td>\n",
              "    </tr>\n",
              "  </tbody>\n",
              "</table>\n",
              "</div>"
            ],
            "text/plain": [
              "               FSIQ       VIQ       PIQ    Weight    Height  MRI_Count\n",
              "FSIQ       1.000000  0.955717  0.939382  0.038192 -0.059011   0.325697\n",
              "VIQ        0.955717  1.000000  0.802652 -0.021889 -0.146453   0.254933\n",
              "PIQ        0.939382  0.802652  1.000000  0.113901 -0.001242   0.396157\n",
              "Weight     0.038192 -0.021889  0.113901  1.000000  0.552357   0.446271\n",
              "Height    -0.059011 -0.146453 -0.001242  0.552357  1.000000   0.174541\n",
              "MRI_Count  0.325697  0.254933  0.396157  0.446271  0.174541   1.000000"
            ]
          },
          "metadata": {
            "tags": []
          },
          "execution_count": 39
        }
      ]
    },
    {
      "cell_type": "code",
      "metadata": {
        "colab": {
          "base_uri": "https://localhost:8080/",
          "height": 228
        },
        "id": "JtxDeNlSmJhX",
        "outputId": "7161e58d-365e-414c-f5b6-6e474b0916aa"
      },
      "source": [
        "mendf.corr(method = 'pearson')"
      ],
      "execution_count": 40,
      "outputs": [
        {
          "output_type": "execute_result",
          "data": {
            "text/html": [
              "<div>\n",
              "<style scoped>\n",
              "    .dataframe tbody tr th:only-of-type {\n",
              "        vertical-align: middle;\n",
              "    }\n",
              "\n",
              "    .dataframe tbody tr th {\n",
              "        vertical-align: top;\n",
              "    }\n",
              "\n",
              "    .dataframe thead th {\n",
              "        text-align: right;\n",
              "    }\n",
              "</style>\n",
              "<table border=\"1\" class=\"dataframe\">\n",
              "  <thead>\n",
              "    <tr style=\"text-align: right;\">\n",
              "      <th></th>\n",
              "      <th>FSIQ</th>\n",
              "      <th>VIQ</th>\n",
              "      <th>PIQ</th>\n",
              "      <th>Weight</th>\n",
              "      <th>Height</th>\n",
              "      <th>MRI_Count</th>\n",
              "    </tr>\n",
              "  </thead>\n",
              "  <tbody>\n",
              "    <tr>\n",
              "      <th>FSIQ</th>\n",
              "      <td>1.000000</td>\n",
              "      <td>0.944400</td>\n",
              "      <td>0.930694</td>\n",
              "      <td>-0.278140</td>\n",
              "      <td>-0.356110</td>\n",
              "      <td>0.498369</td>\n",
              "    </tr>\n",
              "    <tr>\n",
              "      <th>VIQ</th>\n",
              "      <td>0.944400</td>\n",
              "      <td>1.000000</td>\n",
              "      <td>0.766021</td>\n",
              "      <td>-0.350453</td>\n",
              "      <td>-0.355588</td>\n",
              "      <td>0.413105</td>\n",
              "    </tr>\n",
              "    <tr>\n",
              "      <th>PIQ</th>\n",
              "      <td>0.930694</td>\n",
              "      <td>0.766021</td>\n",
              "      <td>1.000000</td>\n",
              "      <td>-0.156863</td>\n",
              "      <td>-0.287676</td>\n",
              "      <td>0.568237</td>\n",
              "    </tr>\n",
              "    <tr>\n",
              "      <th>Weight</th>\n",
              "      <td>-0.278140</td>\n",
              "      <td>-0.350453</td>\n",
              "      <td>-0.156863</td>\n",
              "      <td>1.000000</td>\n",
              "      <td>0.406542</td>\n",
              "      <td>-0.076875</td>\n",
              "    </tr>\n",
              "    <tr>\n",
              "      <th>Height</th>\n",
              "      <td>-0.356110</td>\n",
              "      <td>-0.355588</td>\n",
              "      <td>-0.287676</td>\n",
              "      <td>0.406542</td>\n",
              "      <td>1.000000</td>\n",
              "      <td>0.301543</td>\n",
              "    </tr>\n",
              "    <tr>\n",
              "      <th>MRI_Count</th>\n",
              "      <td>0.498369</td>\n",
              "      <td>0.413105</td>\n",
              "      <td>0.568237</td>\n",
              "      <td>-0.076875</td>\n",
              "      <td>0.301543</td>\n",
              "      <td>1.000000</td>\n",
              "    </tr>\n",
              "  </tbody>\n",
              "</table>\n",
              "</div>"
            ],
            "text/plain": [
              "               FSIQ       VIQ       PIQ    Weight    Height  MRI_Count\n",
              "FSIQ       1.000000  0.944400  0.930694 -0.278140 -0.356110   0.498369\n",
              "VIQ        0.944400  1.000000  0.766021 -0.350453 -0.355588   0.413105\n",
              "PIQ        0.930694  0.766021  1.000000 -0.156863 -0.287676   0.568237\n",
              "Weight    -0.278140 -0.350453 -0.156863  1.000000  0.406542  -0.076875\n",
              "Height    -0.356110 -0.355588 -0.287676  0.406542  1.000000   0.301543\n",
              "MRI_Count  0.498369  0.413105  0.568237 -0.076875  0.301543   1.000000"
            ]
          },
          "metadata": {
            "tags": []
          },
          "execution_count": 40
        }
      ]
    },
    {
      "cell_type": "code",
      "metadata": {
        "colab": {
          "base_uri": "https://localhost:8080/",
          "height": 301
        },
        "id": "5ZFY_TQ4mKZf",
        "outputId": "b2549d9a-202d-4707-bca2-608b3e071121"
      },
      "source": [
        "import seaborn as sns\n",
        "wcorr = womendf.corr()\n",
        "sns.heatmap(wcorr)"
      ],
      "execution_count": 41,
      "outputs": [
        {
          "output_type": "execute_result",
          "data": {
            "text/plain": [
              "<matplotlib.axes._subplots.AxesSubplot at 0x7f40479623d0>"
            ]
          },
          "metadata": {
            "tags": []
          },
          "execution_count": 41
        },
        {
          "output_type": "display_data",
          "data": {
            "image/png": "[encoded data removed]",
            "text/plain": [
              "<Figure size 432x288 with 2 Axes>"
            ]
          },
          "metadata": {
            "tags": [],
            "needs_background": "light"
          }
        }
      ]
    },
    {
      "cell_type": "code",
      "metadata": {
        "colab": {
          "base_uri": "https://localhost:8080/",
          "height": 301
        },
        "id": "QWRlliWToC7T",
        "outputId": "fa34f2a3-af6e-49b7-f383-accc8d1ecfeb"
      },
      "source": [
        "mcorr = mendf.corr()\n",
        "sns.heatmap(mcorr)"
      ],
      "execution_count": 42,
      "outputs": [
        {
          "output_type": "execute_result",
          "data": {
            "text/plain": [
              "<matplotlib.axes._subplots.AxesSubplot at 0x7f40478c5390>"
            ]
          },
          "metadata": {
            "tags": []
          },
          "execution_count": 42
        },
        {
          "output_type": "display_data",
          "data": {
            "image/png": "[encoded data removed]",
            "text/plain": [
              "<Figure size 432x288 with 2 Axes>"
            ]
          },
          "metadata": {
            "tags": [],
            "needs_background": "light"
          }
        }
      ]
    }
  ]
}