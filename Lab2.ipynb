{
  "nbformat": 4,
  "nbformat_minor": 0,
  "metadata": {
    "colab": {
      "name": "Lab2.ipynb",
      "provenance": [],
      "toc_visible": true,
      "authorship_tag": "ABX9TyNRM/6vQrtYPo4nSX2Gr47F",
      "include_colab_link": true
    },
    "kernelspec": {
      "name": "python3",
      "display_name": "Python 3"
    },
    "language_info": {
      "name": "python"
    }
  },
  "cells": [
    {
      "cell_type": "markdown",
      "metadata": {
        "id": "view-in-github",
        "colab_type": "text"
      },
      "source": [
        "<a href=\"https://colab.research.google.com/github/E-D-W-I-N/BigDataAnalysis/blob/Lab-2/Lab2.ipynb\" target=\"_parent\"><img src=\"https://colab.research.google.com/assets/colab-badge.svg\" alt=\"Open In Colab\"/></a>"
      ]
    },
    {
      "cell_type": "markdown",
      "metadata": {
        "id": "cshLVNFhw8KH"
      },
      "source": [
        "#Подготовка к выполнению работы"
      ]
    },
    {
      "cell_type": "code",
      "metadata": {
        "colab": {
          "base_uri": "https://localhost:8080/"
        },
        "id": "GzOoaCmewyPO",
        "outputId": "de5c585f-8aae-4751-cef4-2ab9689f214a"
      },
      "source": [
        "!pip install speedtest-cli"
      ],
      "execution_count": 45,
      "outputs": [
        {
          "output_type": "stream",
          "text": [
            "Requirement already satisfied: speedtest-cli in /usr/local/lib/python3.7/dist-packages (2.1.3)\n"
          ],
          "name": "stdout"
        }
      ]
    },
    {
      "cell_type": "code",
      "metadata": {
        "id": "mGbZtMpswzKr"
      },
      "source": [
        "import datetime\n",
        "import csv\n",
        "import subprocess"
      ],
      "execution_count": 46,
      "outputs": []
    },
    {
      "cell_type": "code",
      "metadata": {
        "colab": {
          "base_uri": "https://localhost:8080/"
        },
        "id": "k98SMXAewz87",
        "outputId": "2eebb0a5-04bc-4165-ea42-cb510560146c"
      },
      "source": [
        "date_time = datetime.datetime.now()\n",
        "print(date_time, type(date_time))"
      ],
      "execution_count": 47,
      "outputs": [
        {
          "output_type": "stream",
          "text": [
            "2021-04-08 14:27:28.515011 <class 'datetime.datetime'>\n"
          ],
          "name": "stdout"
        }
      ]
    },
    {
      "cell_type": "code",
      "metadata": {
        "colab": {
          "base_uri": "https://localhost:8080/",
          "height": 35
        },
        "id": "fCDzNa0Ew03K",
        "outputId": "799684f1-1b8f-4fde-ea46-967edc119406"
      },
      "source": [
        "date_time.strftime('%a, %d %b %Y %H:%M:%S')"
      ],
      "execution_count": 48,
      "outputs": [
        {
          "output_type": "execute_result",
          "data": {
            "application/vnd.google.colaboratory.intrinsic+json": {
              "type": "string"
            },
            "text/plain": [
              "'Thu, 08 Apr 2021 14:27:28'"
            ]
          },
          "metadata": {
            "tags": []
          },
          "execution_count": 48
        }
      ]
    },
    {
      "cell_type": "markdown",
      "metadata": {
        "id": "yZkfjbDyw2C4"
      },
      "source": [
        "Метка времени с преобразованием результата в строку в формате: ГГГГ-ММ-ДД ЧЧ: ММ: СС"
      ]
    },
    {
      "cell_type": "code",
      "metadata": {
        "colab": {
          "base_uri": "https://localhost:8080/",
          "height": 35
        },
        "id": "Iq_rVRZhw3nb",
        "outputId": "84de8d5c-5257-4e74-d83a-68cd27389486"
      },
      "source": [
        "date_time.strftime('%Y-%m-%d %H:%M:%S')"
      ],
      "execution_count": 49,
      "outputs": [
        {
          "output_type": "execute_result",
          "data": {
            "application/vnd.google.colaboratory.intrinsic+json": {
              "type": "string"
            },
            "text/plain": [
              "'2021-04-08 14:27:28'"
            ]
          },
          "metadata": {
            "tags": []
          },
          "execution_count": 49
        }
      ]
    },
    {
      "cell_type": "markdown",
      "metadata": {
        "id": "BR9AaM7zw4xi"
      },
      "source": [
        "#Выполнение работы"
      ]
    },
    {
      "cell_type": "code",
      "metadata": {
        "id": "RcESQL1Fw5tp"
      },
      "source": [
        "speedtest_cmd = \"speedtest-cli --simple\"\n",
        "process = subprocess.Popen(speedtest_cmd.split(), stdout=subprocess.PIPE)\n",
        "process_output = process.communicate()[0]"
      ],
      "execution_count": 50,
      "outputs": []
    },
    {
      "cell_type": "code",
      "metadata": {
        "colab": {
          "base_uri": "https://localhost:8080/"
        },
        "id": "M-wqdHRtw64s",
        "outputId": "cb9d5a52-5f86-4904-abe7-df190a4a042b"
      },
      "source": [
        "print(process_output, type(process_output))"
      ],
      "execution_count": 51,
      "outputs": [
        {
          "output_type": "stream",
          "text": [
            "b'Ping: 13.622 ms\\nDownload: 1910.86 Mbit/s\\nUpload: 695.24 Mbit/s\\n' <class 'bytes'>\n"
          ],
          "name": "stdout"
        }
      ]
    },
    {
      "cell_type": "code",
      "metadata": {
        "colab": {
          "base_uri": "https://localhost:8080/"
        },
        "id": "9rvPyj2_yZy6",
        "outputId": "dea48108-8031-47da-f79f-69782f904641"
      },
      "source": [
        "date_time = datetime.datetime.now().strftime(\"%Y-%m-%d %H:%M:%S\")\n",
        "process_output = process_output.split()\n",
        "process_output.append(date_time)\n",
        "print(process_output, type(process_output))"
      ],
      "execution_count": 52,
      "outputs": [
        {
          "output_type": "stream",
          "text": [
            "[b'Ping:', b'13.622', b'ms', b'Download:', b'1910.86', b'Mbit/s', b'Upload:', b'695.24', b'Mbit/s', '2021-04-08 14:27:32'] <class 'list'>\n"
          ],
          "name": "stdout"
        }
      ]
    },
    {
      "cell_type": "code",
      "metadata": {
        "id": "T8Td3Zddya4N"
      },
      "source": [
        "def speedtest():\n",
        "    date_time = datetime.datetime.now().strftime(\"%Y-%m-%d %H:%M:%S\")\n",
        "    speedtest_cmd = \"speedtest-cli --simple\"\n",
        "    process = subprocess.Popen(speedtest_cmd.split(), stdout=subprocess.PIPE)\n",
        "    process_output = process.communicate()[0]\n",
        "    process_output = process_output.split()\n",
        "    process_output.append(date_time)\n",
        "    return process_output"
      ],
      "execution_count": 53,
      "outputs": []
    },
    {
      "cell_type": "code",
      "metadata": {
        "id": "8DW0BU6ryb_I",
        "colab": {
          "base_uri": "https://localhost:8080/"
        },
        "outputId": "c813383c-5d2d-4e4e-a8f3-4b075b34c8cc"
      },
      "source": [
        "speedtest()"
      ],
      "execution_count": 54,
      "outputs": [
        {
          "output_type": "execute_result",
          "data": {
            "text/plain": [
              "[b'Ping:',\n",
              " b'13.693',\n",
              " b'ms',\n",
              " b'Download:',\n",
              " b'1853.16',\n",
              " b'Mbit/s',\n",
              " b'Upload:',\n",
              " b'704.30',\n",
              " b'Mbit/s',\n",
              " '2021-04-08 14:27:32']"
            ]
          },
          "metadata": {
            "tags": []
          },
          "execution_count": 54
        }
      ]
    },
    {
      "cell_type": "code",
      "metadata": {
        "colab": {
          "base_uri": "https://localhost:8080/"
        },
        "id": "wx8InBPt0txH",
        "outputId": "bd943fd1-6290-48b3-9723-56fc803051b9"
      },
      "source": [
        "results = speedtest()\n",
        "print(results, type(results))"
      ],
      "execution_count": 55,
      "outputs": [
        {
          "output_type": "stream",
          "text": [
            "[b'Ping:', b'13.077', b'ms', b'Download:', b'1875.93', b'Mbit/s', b'Upload:', b'695.04', b'Mbit/s', '2021-04-08 14:27:37'] <class 'list'>\n"
          ],
          "name": "stdout"
        }
      ]
    },
    {
      "cell_type": "code",
      "metadata": {
        "id": "vDfQ5HpB06I8"
      },
      "source": [
        "with open(\"/tmp/test.txt\", \"w\") as f:\n",
        "    f.write('test_msg')"
      ],
      "execution_count": 56,
      "outputs": []
    },
    {
      "cell_type": "code",
      "metadata": {
        "colab": {
          "base_uri": "https://localhost:8080/"
        },
        "id": "Mv6DzPkq1Zq4",
        "outputId": "54f814ae-0e44-43aa-b49e-e9725019f801"
      },
      "source": [
        "!cat /tmp/test.txt"
      ],
      "execution_count": 57,
      "outputs": [
        {
          "output_type": "stream",
          "text": [
            "test_msg"
          ],
          "name": "stdout"
        }
      ]
    },
    {
      "cell_type": "code",
      "metadata": {
        "colab": {
          "base_uri": "https://localhost:8080/"
        },
        "id": "zEpFW9Ky1awm",
        "outputId": "a1243856-2d67-4a5c-ba89-d5a7d63e37e9"
      },
      "source": [
        "with open(\"/tmp/test.txt\", \"r\") as f:\n",
        "    str = f.read()\n",
        "print(str)"
      ],
      "execution_count": 58,
      "outputs": [
        {
          "output_type": "stream",
          "text": [
            "test_msg\n"
          ],
          "name": "stdout"
        }
      ]
    },
    {
      "cell_type": "code",
      "metadata": {
        "id": "CtBzlAPh1ebM"
      },
      "source": [
        "def save_to_csv(data, filename):\n",
        "    try:\n",
        "        with open(filename + '.csv', 'a') as f:\n",
        "            wr = csv.writer(f)\n",
        "            wr.writerow(data)\n",
        "    except:\n",
        "        with open(filename + '.csv', 'w') as f:\n",
        "            wr = csv.writer(f)\n",
        "            wr.writerow(data)"
      ],
      "execution_count": 59,
      "outputs": []
    },
    {
      "cell_type": "code",
      "metadata": {
        "id": "0e7V7zvH1gbk"
      },
      "source": [
        "def print_from_csv(filename):\n",
        "    with open(filename + '.csv', 'r') as f:\n",
        "        re = csv.reader(f)\n",
        "        for row in re:\n",
        "            print(row)"
      ],
      "execution_count": 60,
      "outputs": []
    },
    {
      "cell_type": "markdown",
      "metadata": {
        "id": "43HQubVo18IO"
      },
      "source": [
        "#Процедура проведения измерений и сбора данных"
      ]
    },
    {
      "cell_type": "code",
      "metadata": {
        "colab": {
          "base_uri": "https://localhost:8080/"
        },
        "id": "BmNzDqui1_rv",
        "outputId": "3315cd6c-ca0d-4eb1-b4df-1c5991bfd70c"
      },
      "source": [
        "for i in range(5):\n",
        "    speedtest_output = speedtest()\n",
        "    print('Test number {}'.format(i))\n",
        "    print(speedtest_output)\n",
        "    save_to_csv(speedtest_output, '/tmp/rpi_data_test')"
      ],
      "execution_count": 61,
      "outputs": [
        {
          "output_type": "stream",
          "text": [
            "Test number 0\n",
            "[b'Ping:', b'13.469', b'ms', b'Download:', b'1905.47', b'Mbit/s', b'Upload:', b'705.11', b'Mbit/s', '2021-04-08 14:27:41']\n",
            "Test number 1\n",
            "[b'Ping:', b'13.449', b'ms', b'Download:', b'866.42', b'Mbit/s', b'Upload:', b'710.07', b'Mbit/s', '2021-04-08 14:27:46']\n",
            "Test number 2\n",
            "[b'Ping:', b'13.446', b'ms', b'Download:', b'856.23', b'Mbit/s', b'Upload:', b'687.64', b'Mbit/s', '2021-04-08 14:27:52']\n",
            "Test number 3\n",
            "[b'Ping:', b'13.439', b'ms', b'Download:', b'1882.47', b'Mbit/s', b'Upload:', b'711.77', b'Mbit/s', '2021-04-08 14:27:59']\n",
            "Test number 4\n",
            "[b'Ping:', b'13.454', b'ms', b'Download:', b'1892.30', b'Mbit/s', b'Upload:', b'713.52', b'Mbit/s', '2021-04-08 14:28:03']\n"
          ],
          "name": "stdout"
        }
      ]
    },
    {
      "cell_type": "code",
      "metadata": {
        "colab": {
          "base_uri": "https://localhost:8080/"
        },
        "id": "Gn06V0Gj2ECV",
        "outputId": "207fe2fc-8dbc-49ca-deba-c35dea1170f3"
      },
      "source": [
        "print_from_csv('/tmp/rpi_data_test')"
      ],
      "execution_count": 62,
      "outputs": [
        {
          "output_type": "stream",
          "text": [
            "[\"b'Ping:'\", \"b'15.102'\", \"b'ms'\", \"b'Download:'\", \"b'1534.78'\", \"b'Mbit/s'\", \"b'Upload:'\", \"b'196.63'\", \"b'Mbit/s'\", '2021-04-08 14:17:24']\n",
            "[\"b'Ping:'\", \"b'14.069'\", \"b'ms'\", \"b'Download:'\", \"b'843.00'\", \"b'Mbit/s'\", \"b'Upload:'\", \"b'604.68'\", \"b'Mbit/s'\", '2021-04-08 14:17:34']\n",
            "[\"b'Ping:'\", \"b'13.255'\", \"b'ms'\", \"b'Download:'\", \"b'1881.96'\", \"b'Mbit/s'\", \"b'Upload:'\", \"b'692.52'\", \"b'Mbit/s'\", '2021-04-08 14:17:40']\n",
            "[\"b'Ping:'\", \"b'12.409'\", \"b'ms'\", \"b'Download:'\", \"b'1780.15'\", \"b'Mbit/s'\", \"b'Upload:'\", \"b'700.06'\", \"b'Mbit/s'\", '2021-04-08 14:17:45']\n",
            "[\"b'Ping:'\", \"b'12.841'\", \"b'ms'\", \"b'Download:'\", \"b'1950.73'\", \"b'Mbit/s'\", \"b'Upload:'\", \"b'719.37'\", \"b'Mbit/s'\", '2021-04-08 14:17:49']\n",
            "[\"b'Ping:'\", \"b'13.469'\", \"b'ms'\", \"b'Download:'\", \"b'1905.47'\", \"b'Mbit/s'\", \"b'Upload:'\", \"b'705.11'\", \"b'Mbit/s'\", '2021-04-08 14:27:41']\n",
            "[\"b'Ping:'\", \"b'13.449'\", \"b'ms'\", \"b'Download:'\", \"b'866.42'\", \"b'Mbit/s'\", \"b'Upload:'\", \"b'710.07'\", \"b'Mbit/s'\", '2021-04-08 14:27:46']\n",
            "[\"b'Ping:'\", \"b'13.446'\", \"b'ms'\", \"b'Download:'\", \"b'856.23'\", \"b'Mbit/s'\", \"b'Upload:'\", \"b'687.64'\", \"b'Mbit/s'\", '2021-04-08 14:27:52']\n",
            "[\"b'Ping:'\", \"b'13.439'\", \"b'ms'\", \"b'Download:'\", \"b'1882.47'\", \"b'Mbit/s'\", \"b'Upload:'\", \"b'711.77'\", \"b'Mbit/s'\", '2021-04-08 14:27:59']\n",
            "[\"b'Ping:'\", \"b'13.454'\", \"b'ms'\", \"b'Download:'\", \"b'1892.30'\", \"b'Mbit/s'\", \"b'Upload:'\", \"b'713.52'\", \"b'Mbit/s'\", '2021-04-08 14:28:03']\n"
          ],
          "name": "stdout"
        }
      ]
    },
    {
      "cell_type": "markdown",
      "metadata": {
        "id": "Q-uu4TE92Xds"
      },
      "source": [
        "#Обработка данных"
      ]
    },
    {
      "cell_type": "code",
      "metadata": {
        "id": "wD2DNAMi2YUC"
      },
      "source": [
        "import datetime\n",
        "import csv\n",
        "import pandas as pd"
      ],
      "execution_count": 63,
      "outputs": []
    },
    {
      "cell_type": "code",
      "metadata": {
        "colab": {
          "base_uri": "https://localhost:8080/"
        },
        "id": "MJA-erLY2cDg",
        "outputId": "5e249a94-427a-4bf4-dd35-95429cef9322"
      },
      "source": [
        "!head -n 5 rpi_data_long.csv"
      ],
      "execution_count": 64,
      "outputs": [
        {
          "output_type": "stream",
          "text": [
            "Ping:,26.992,ms,Download:,91.80,Mbit/s,Upload:,14.31,Mbit/s,2016-11-24 13:36:25\r\n",
            "Ping:,24.532,ms,Download:,88.19,Mbit/s,Upload:,14.12,Mbit/s,2016-11-24 13:36:55\r\n",
            "Ping:,20.225,ms,Download:,59.86,Mbit/s,Upload:,14.11,Mbit/s,2016-11-24 13:37:25\r\n",
            "Ping:,19.332,ms,Download:,91.81,Mbit/s,Upload:,14.22,Mbit/s,2016-11-24 13:37:57\r\n",
            "Ping:,22.494,ms,Download:,92.05,Mbit/s,Upload:,14.08,Mbit/s,2016-11-24 13:38:27\r\n"
          ],
          "name": "stdout"
        }
      ]
    },
    {
      "cell_type": "code",
      "metadata": {
        "id": "1OpAQEaJ3KRc"
      },
      "source": [
        "data_file = 'rpi_data_long.csv'"
      ],
      "execution_count": 65,
      "outputs": []
    },
    {
      "cell_type": "code",
      "metadata": {
        "id": "hvkNAel-3P1E"
      },
      "source": [
        "column_names = ['Type A', 'Measure A', 'Unit A',\n",
        "                'Type B', 'Measure B', 'Unit B',\n",
        "                'Type C', 'Measure C', 'Unit C',\n",
        "                'Datetime']"
      ],
      "execution_count": 66,
      "outputs": []
    },
    {
      "cell_type": "code",
      "metadata": {
        "id": "ltd1Ahmu3T27"
      },
      "source": [
        "with open(data_file, 'r') as f:\n",
        "    df_redundant = pd.read_csv(f, names = column_names)"
      ],
      "execution_count": 67,
      "outputs": []
    },
    {
      "cell_type": "code",
      "metadata": {
        "colab": {
          "base_uri": "https://localhost:8080/",
          "height": 198
        },
        "id": "ZN2Ca4cJ3UvR",
        "outputId": "748ae259-2f41-4232-f45b-b26c4e87f4b9"
      },
      "source": [
        "df_redundant.head()"
      ],
      "execution_count": 68,
      "outputs": [
        {
          "output_type": "execute_result",
          "data": {
            "text/html": [
              "<div>\n",
              "<style scoped>\n",
              "    .dataframe tbody tr th:only-of-type {\n",
              "        vertical-align: middle;\n",
              "    }\n",
              "\n",
              "    .dataframe tbody tr th {\n",
              "        vertical-align: top;\n",
              "    }\n",
              "\n",
              "    .dataframe thead th {\n",
              "        text-align: right;\n",
              "    }\n",
              "</style>\n",
              "<table border=\"1\" class=\"dataframe\">\n",
              "  <thead>\n",
              "    <tr style=\"text-align: right;\">\n",
              "      <th></th>\n",
              "      <th>Type A</th>\n",
              "      <th>Measure A</th>\n",
              "      <th>Unit A</th>\n",
              "      <th>Type B</th>\n",
              "      <th>Measure B</th>\n",
              "      <th>Unit B</th>\n",
              "      <th>Type C</th>\n",
              "      <th>Measure C</th>\n",
              "      <th>Unit C</th>\n",
              "      <th>Datetime</th>\n",
              "    </tr>\n",
              "  </thead>\n",
              "  <tbody>\n",
              "    <tr>\n",
              "      <th>0</th>\n",
              "      <td>Ping:</td>\n",
              "      <td>26.992</td>\n",
              "      <td>ms</td>\n",
              "      <td>Download:</td>\n",
              "      <td>91.80</td>\n",
              "      <td>Mbit/s</td>\n",
              "      <td>Upload:</td>\n",
              "      <td>14.31</td>\n",
              "      <td>Mbit/s</td>\n",
              "      <td>2016-11-24 13:36:25</td>\n",
              "    </tr>\n",
              "    <tr>\n",
              "      <th>1</th>\n",
              "      <td>Ping:</td>\n",
              "      <td>24.532</td>\n",
              "      <td>ms</td>\n",
              "      <td>Download:</td>\n",
              "      <td>88.19</td>\n",
              "      <td>Mbit/s</td>\n",
              "      <td>Upload:</td>\n",
              "      <td>14.12</td>\n",
              "      <td>Mbit/s</td>\n",
              "      <td>2016-11-24 13:36:55</td>\n",
              "    </tr>\n",
              "    <tr>\n",
              "      <th>2</th>\n",
              "      <td>Ping:</td>\n",
              "      <td>20.225</td>\n",
              "      <td>ms</td>\n",
              "      <td>Download:</td>\n",
              "      <td>59.86</td>\n",
              "      <td>Mbit/s</td>\n",
              "      <td>Upload:</td>\n",
              "      <td>14.11</td>\n",
              "      <td>Mbit/s</td>\n",
              "      <td>2016-11-24 13:37:25</td>\n",
              "    </tr>\n",
              "    <tr>\n",
              "      <th>3</th>\n",
              "      <td>Ping:</td>\n",
              "      <td>19.332</td>\n",
              "      <td>ms</td>\n",
              "      <td>Download:</td>\n",
              "      <td>91.81</td>\n",
              "      <td>Mbit/s</td>\n",
              "      <td>Upload:</td>\n",
              "      <td>14.22</td>\n",
              "      <td>Mbit/s</td>\n",
              "      <td>2016-11-24 13:37:57</td>\n",
              "    </tr>\n",
              "    <tr>\n",
              "      <th>4</th>\n",
              "      <td>Ping:</td>\n",
              "      <td>22.494</td>\n",
              "      <td>ms</td>\n",
              "      <td>Download:</td>\n",
              "      <td>92.05</td>\n",
              "      <td>Mbit/s</td>\n",
              "      <td>Upload:</td>\n",
              "      <td>14.08</td>\n",
              "      <td>Mbit/s</td>\n",
              "      <td>2016-11-24 13:38:27</td>\n",
              "    </tr>\n",
              "  </tbody>\n",
              "</table>\n",
              "</div>"
            ],
            "text/plain": [
              "  Type A Measure A Unit A  ... Measure C  Unit C             Datetime\n",
              "0  Ping:    26.992     ms  ...     14.31  Mbit/s  2016-11-24 13:36:25\n",
              "1  Ping:    24.532     ms  ...     14.12  Mbit/s  2016-11-24 13:36:55\n",
              "2  Ping:    20.225     ms  ...     14.11  Mbit/s  2016-11-24 13:37:25\n",
              "3  Ping:    19.332     ms  ...     14.22  Mbit/s  2016-11-24 13:37:57\n",
              "4  Ping:    22.494     ms  ...     14.08  Mbit/s  2016-11-24 13:38:27\n",
              "\n",
              "[5 rows x 10 columns]"
            ]
          },
          "metadata": {
            "tags": []
          },
          "execution_count": 68
        }
      ]
    },
    {
      "cell_type": "code",
      "metadata": {
        "id": "vFVfdZ2y3ZgT"
      },
      "source": [
        "df_compact = df_redundant.copy()"
      ],
      "execution_count": 69,
      "outputs": []
    },
    {
      "cell_type": "code",
      "metadata": {
        "colab": {
          "base_uri": "https://localhost:8080/",
          "height": 207
        },
        "id": "R-xGhqxl3gYE",
        "outputId": "b697c1b4-485d-48e0-8a20-bdd571388a22"
      },
      "source": [
        "df_compact.rename(columns={'Measure A': 'Ping (ms)',\n",
        "                           'Measure B': 'Download (Mbit/s)',\n",
        "                           'Measure C': 'Upload (Mbit/s)'}, inplace=True)\n",
        "df_compact.head(3)"
      ],
      "execution_count": 70,
      "outputs": [
        {
          "output_type": "execute_result",
          "data": {
            "text/html": [
              "<div>\n",
              "<style scoped>\n",
              "    .dataframe tbody tr th:only-of-type {\n",
              "        vertical-align: middle;\n",
              "    }\n",
              "\n",
              "    .dataframe tbody tr th {\n",
              "        vertical-align: top;\n",
              "    }\n",
              "\n",
              "    .dataframe thead th {\n",
              "        text-align: right;\n",
              "    }\n",
              "</style>\n",
              "<table border=\"1\" class=\"dataframe\">\n",
              "  <thead>\n",
              "    <tr style=\"text-align: right;\">\n",
              "      <th></th>\n",
              "      <th>Type A</th>\n",
              "      <th>Ping (ms)</th>\n",
              "      <th>Unit A</th>\n",
              "      <th>Type B</th>\n",
              "      <th>Download (Mbit/s)</th>\n",
              "      <th>Unit B</th>\n",
              "      <th>Type C</th>\n",
              "      <th>Upload (Mbit/s)</th>\n",
              "      <th>Unit C</th>\n",
              "      <th>Datetime</th>\n",
              "    </tr>\n",
              "  </thead>\n",
              "  <tbody>\n",
              "    <tr>\n",
              "      <th>0</th>\n",
              "      <td>Ping:</td>\n",
              "      <td>26.992</td>\n",
              "      <td>ms</td>\n",
              "      <td>Download:</td>\n",
              "      <td>91.80</td>\n",
              "      <td>Mbit/s</td>\n",
              "      <td>Upload:</td>\n",
              "      <td>14.31</td>\n",
              "      <td>Mbit/s</td>\n",
              "      <td>2016-11-24 13:36:25</td>\n",
              "    </tr>\n",
              "    <tr>\n",
              "      <th>1</th>\n",
              "      <td>Ping:</td>\n",
              "      <td>24.532</td>\n",
              "      <td>ms</td>\n",
              "      <td>Download:</td>\n",
              "      <td>88.19</td>\n",
              "      <td>Mbit/s</td>\n",
              "      <td>Upload:</td>\n",
              "      <td>14.12</td>\n",
              "      <td>Mbit/s</td>\n",
              "      <td>2016-11-24 13:36:55</td>\n",
              "    </tr>\n",
              "    <tr>\n",
              "      <th>2</th>\n",
              "      <td>Ping:</td>\n",
              "      <td>20.225</td>\n",
              "      <td>ms</td>\n",
              "      <td>Download:</td>\n",
              "      <td>59.86</td>\n",
              "      <td>Mbit/s</td>\n",
              "      <td>Upload:</td>\n",
              "      <td>14.11</td>\n",
              "      <td>Mbit/s</td>\n",
              "      <td>2016-11-24 13:37:25</td>\n",
              "    </tr>\n",
              "  </tbody>\n",
              "</table>\n",
              "</div>"
            ],
            "text/plain": [
              "  Type A Ping (ms) Unit A  ... Upload (Mbit/s)  Unit C             Datetime\n",
              "0  Ping:    26.992     ms  ...           14.31  Mbit/s  2016-11-24 13:36:25\n",
              "1  Ping:    24.532     ms  ...           14.12  Mbit/s  2016-11-24 13:36:55\n",
              "2  Ping:    20.225     ms  ...           14.11  Mbit/s  2016-11-24 13:37:25\n",
              "\n",
              "[3 rows x 10 columns]"
            ]
          },
          "metadata": {
            "tags": []
          },
          "execution_count": 70
        }
      ]
    },
    {
      "cell_type": "code",
      "metadata": {
        "colab": {
          "base_uri": "https://localhost:8080/",
          "height": 198
        },
        "id": "q-VfH8gQ3qth",
        "outputId": "eaa26598-4a7f-4afb-8a1b-f802860ca565"
      },
      "source": [
        "df_compact.drop(['Type A', 'Type B', 'Type C',\n",
        "                 'Unit A', 'Unit B', 'Unit C'], axis=1, inplace=True)\n",
        "df_compact.head()"
      ],
      "execution_count": 71,
      "outputs": [
        {
          "output_type": "execute_result",
          "data": {
            "text/html": [
              "<div>\n",
              "<style scoped>\n",
              "    .dataframe tbody tr th:only-of-type {\n",
              "        vertical-align: middle;\n",
              "    }\n",
              "\n",
              "    .dataframe tbody tr th {\n",
              "        vertical-align: top;\n",
              "    }\n",
              "\n",
              "    .dataframe thead th {\n",
              "        text-align: right;\n",
              "    }\n",
              "</style>\n",
              "<table border=\"1\" class=\"dataframe\">\n",
              "  <thead>\n",
              "    <tr style=\"text-align: right;\">\n",
              "      <th></th>\n",
              "      <th>Ping (ms)</th>\n",
              "      <th>Download (Mbit/s)</th>\n",
              "      <th>Upload (Mbit/s)</th>\n",
              "      <th>Datetime</th>\n",
              "    </tr>\n",
              "  </thead>\n",
              "  <tbody>\n",
              "    <tr>\n",
              "      <th>0</th>\n",
              "      <td>26.992</td>\n",
              "      <td>91.80</td>\n",
              "      <td>14.31</td>\n",
              "      <td>2016-11-24 13:36:25</td>\n",
              "    </tr>\n",
              "    <tr>\n",
              "      <th>1</th>\n",
              "      <td>24.532</td>\n",
              "      <td>88.19</td>\n",
              "      <td>14.12</td>\n",
              "      <td>2016-11-24 13:36:55</td>\n",
              "    </tr>\n",
              "    <tr>\n",
              "      <th>2</th>\n",
              "      <td>20.225</td>\n",
              "      <td>59.86</td>\n",
              "      <td>14.11</td>\n",
              "      <td>2016-11-24 13:37:25</td>\n",
              "    </tr>\n",
              "    <tr>\n",
              "      <th>3</th>\n",
              "      <td>19.332</td>\n",
              "      <td>91.81</td>\n",
              "      <td>14.22</td>\n",
              "      <td>2016-11-24 13:37:57</td>\n",
              "    </tr>\n",
              "    <tr>\n",
              "      <th>4</th>\n",
              "      <td>22.494</td>\n",
              "      <td>92.05</td>\n",
              "      <td>14.08</td>\n",
              "      <td>2016-11-24 13:38:27</td>\n",
              "    </tr>\n",
              "  </tbody>\n",
              "</table>\n",
              "</div>"
            ],
            "text/plain": [
              "  Ping (ms) Download (Mbit/s)  Upload (Mbit/s)             Datetime\n",
              "0    26.992             91.80            14.31  2016-11-24 13:36:25\n",
              "1    24.532             88.19            14.12  2016-11-24 13:36:55\n",
              "2    20.225             59.86            14.11  2016-11-24 13:37:25\n",
              "3    19.332             91.81            14.22  2016-11-24 13:37:57\n",
              "4    22.494             92.05            14.08  2016-11-24 13:38:27"
            ]
          },
          "metadata": {
            "tags": []
          },
          "execution_count": 71
        }
      ]
    },
    {
      "cell_type": "code",
      "metadata": {
        "id": "62HU83Ru3w9V"
      },
      "source": [
        "df_compact['Date'] = df_compact['Datetime'].apply(lambda dt_str: pd.to_datetime(dt_str).date())"
      ],
      "execution_count": 72,
      "outputs": []
    },
    {
      "cell_type": "code",
      "metadata": {
        "id": "Z0BOxrhB3yHd"
      },
      "source": [
        "temp = df_compact['Datetime'].apply(lambda dt_str: pd.to_datetime(dt_str))\n",
        "df_compact['Time'] = temp.dt.time"
      ],
      "execution_count": 73,
      "outputs": []
    },
    {
      "cell_type": "code",
      "metadata": {
        "colab": {
          "base_uri": "https://localhost:8080/",
          "height": 198
        },
        "id": "_nFFR0Ea3-46",
        "outputId": "55ec3336-f2cf-4b15-e9ad-4db15a1b9fe1"
      },
      "source": [
        "df_compact.drop('Datetime', axis=1, inplace=True)\n",
        "df_compact.head()"
      ],
      "execution_count": 74,
      "outputs": [
        {
          "output_type": "execute_result",
          "data": {
            "text/html": [
              "<div>\n",
              "<style scoped>\n",
              "    .dataframe tbody tr th:only-of-type {\n",
              "        vertical-align: middle;\n",
              "    }\n",
              "\n",
              "    .dataframe tbody tr th {\n",
              "        vertical-align: top;\n",
              "    }\n",
              "\n",
              "    .dataframe thead th {\n",
              "        text-align: right;\n",
              "    }\n",
              "</style>\n",
              "<table border=\"1\" class=\"dataframe\">\n",
              "  <thead>\n",
              "    <tr style=\"text-align: right;\">\n",
              "      <th></th>\n",
              "      <th>Ping (ms)</th>\n",
              "      <th>Download (Mbit/s)</th>\n",
              "      <th>Upload (Mbit/s)</th>\n",
              "      <th>Date</th>\n",
              "      <th>Time</th>\n",
              "    </tr>\n",
              "  </thead>\n",
              "  <tbody>\n",
              "    <tr>\n",
              "      <th>0</th>\n",
              "      <td>26.992</td>\n",
              "      <td>91.80</td>\n",
              "      <td>14.31</td>\n",
              "      <td>2016-11-24</td>\n",
              "      <td>13:36:25</td>\n",
              "    </tr>\n",
              "    <tr>\n",
              "      <th>1</th>\n",
              "      <td>24.532</td>\n",
              "      <td>88.19</td>\n",
              "      <td>14.12</td>\n",
              "      <td>2016-11-24</td>\n",
              "      <td>13:36:55</td>\n",
              "    </tr>\n",
              "    <tr>\n",
              "      <th>2</th>\n",
              "      <td>20.225</td>\n",
              "      <td>59.86</td>\n",
              "      <td>14.11</td>\n",
              "      <td>2016-11-24</td>\n",
              "      <td>13:37:25</td>\n",
              "    </tr>\n",
              "    <tr>\n",
              "      <th>3</th>\n",
              "      <td>19.332</td>\n",
              "      <td>91.81</td>\n",
              "      <td>14.22</td>\n",
              "      <td>2016-11-24</td>\n",
              "      <td>13:37:57</td>\n",
              "    </tr>\n",
              "    <tr>\n",
              "      <th>4</th>\n",
              "      <td>22.494</td>\n",
              "      <td>92.05</td>\n",
              "      <td>14.08</td>\n",
              "      <td>2016-11-24</td>\n",
              "      <td>13:38:27</td>\n",
              "    </tr>\n",
              "  </tbody>\n",
              "</table>\n",
              "</div>"
            ],
            "text/plain": [
              "  Ping (ms) Download (Mbit/s)  Upload (Mbit/s)        Date      Time\n",
              "0    26.992             91.80            14.31  2016-11-24  13:36:25\n",
              "1    24.532             88.19            14.12  2016-11-24  13:36:55\n",
              "2    20.225             59.86            14.11  2016-11-24  13:37:25\n",
              "3    19.332             91.81            14.22  2016-11-24  13:37:57\n",
              "4    22.494             92.05            14.08  2016-11-24  13:38:27"
            ]
          },
          "metadata": {
            "tags": []
          },
          "execution_count": 74
        }
      ]
    },
    {
      "cell_type": "code",
      "metadata": {
        "colab": {
          "base_uri": "https://localhost:8080/"
        },
        "id": "NvK1FsY14HV6",
        "outputId": "eaea2258-d528-47b8-9536-59c54a6ffbd7"
      },
      "source": [
        "print(df_compact['Date'][0], type(df_compact['Date'][0]))\n",
        "print(df_compact['Time'][0], type(df_compact['Time'][0]))"
      ],
      "execution_count": 75,
      "outputs": [
        {
          "output_type": "stream",
          "text": [
            "2016-11-24 <class 'datetime.date'>\n",
            "13:36:25 <class 'datetime.time'>\n"
          ],
          "name": "stdout"
        }
      ]
    },
    {
      "cell_type": "code",
      "metadata": {
        "id": "wqm1gb5N4LXz"
      },
      "source": [
        "df_compact.to_csv('rpi_data_compact.csv')"
      ],
      "execution_count": 76,
      "outputs": []
    }
  ]
}